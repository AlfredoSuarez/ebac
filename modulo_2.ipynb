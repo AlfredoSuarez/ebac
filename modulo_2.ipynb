{
 "cells": [
  {
   "cell_type": "markdown",
   "id": "87edc810",
   "metadata": {},
   "source": [
    "Hello...thank you for your help in this quest"
   ]
  },
  {
   "cell_type": "code",
   "execution_count": 3,
   "id": "3ae979d7",
   "metadata": {},
   "outputs": [
    {
     "name": "stdout",
     "output_type": "stream",
     "text": [
      "Por favor ingresa un número entero...entre el 0 al 9: 7\n"
     ]
    }
   ],
   "source": [
    "x = input('Please enter a number between 0-9: ')"
   ]
  },
  {
   "cell_type": "code",
   "execution_count": 8,
   "id": "6520e3b3",
   "metadata": {},
   "outputs": [
    {
     "name": "stdout",
     "output_type": "stream",
     "text": [
      "7\n",
      "<class 'str'>\n",
      "140680446174384\n"
     ]
    }
   ],
   "source": [
    "print(x)\n",
    "print(type(x))\n",
    "print(id(x))"
   ]
  },
  {
   "cell_type": "code",
   "execution_count": null,
   "id": "e75905a4",
   "metadata": {},
   "outputs": [],
   "source": [
    "#something went wrong...well try to fix it"
   ]
  },
  {
   "cell_type": "code",
   "execution_count": 9,
   "id": "82e2943f",
   "metadata": {},
   "outputs": [],
   "source": [
    "x = int(x)"
   ]
  },
  {
   "cell_type": "code",
   "execution_count": 11,
   "id": "14ec80f4",
   "metadata": {},
   "outputs": [
    {
     "name": "stdout",
     "output_type": "stream",
     "text": [
      "<class 'int'>\n",
      "140680714447344\n"
     ]
    }
   ],
   "source": [
    "print(type(x))\n",
    "print(id(x))"
   ]
  },
  {
   "cell_type": "code",
   "execution_count": 12,
   "id": "1ffd338b",
   "metadata": {},
   "outputs": [],
   "source": [
    "#much better...now how about a float...a float it is just a number with decimals, let's try with 2"
   ]
  },
  {
   "cell_type": "code",
   "execution_count": 17,
   "id": "767dbbae",
   "metadata": {},
   "outputs": [
    {
     "name": "stdout",
     "output_type": "stream",
     "text": [
      "Please type any number with 2 decimals45.78\n"
     ]
    }
   ],
   "source": [
    "y = input('Please type any number with 2 decimals')"
   ]
  },
  {
   "cell_type": "code",
   "execution_count": 21,
   "id": "24649d1e",
   "metadata": {},
   "outputs": [
    {
     "name": "stdout",
     "output_type": "stream",
     "text": [
      "45.78\n",
      "<class 'float'>\n",
      "140680718284080\n"
     ]
    }
   ],
   "source": [
    "print(y)\n",
    "y = float(y)\n",
    "print(type(y))\n",
    "print(id(y))"
   ]
  },
  {
   "cell_type": "code",
   "execution_count": null,
   "id": "d808001e",
   "metadata": {},
   "outputs": [],
   "source": [
    "#Thanks...That's all folks!"
   ]
  },
  {
   "cell_type": "code",
   "execution_count": null,
   "id": "3c2d50be",
   "metadata": {},
   "outputs": [],
   "source": []
  }
 ],
 "metadata": {
  "kernelspec": {
   "display_name": "Python 3 (ipykernel)",
   "language": "python",
   "name": "python3"
  },
  "language_info": {
   "codemirror_mode": {
    "name": "ipython",
    "version": 3
   },
   "file_extension": ".py",
   "mimetype": "text/x-python",
   "name": "python",
   "nbconvert_exporter": "python",
   "pygments_lexer": "ipython3",
   "version": "3.9.13"
  }
 },
 "nbformat": 4,
 "nbformat_minor": 5
}
