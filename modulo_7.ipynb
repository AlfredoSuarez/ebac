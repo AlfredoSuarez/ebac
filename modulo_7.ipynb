{
 "cells": [
  {
   "cell_type": "code",
   "execution_count": 2,
   "id": "3115be13",
   "metadata": {},
   "outputs": [],
   "source": [
    "import os\n",
    "import urllib\n",
    "import numpy as np\n",
    "import scipy as sp\n",
    "import pandas as pd\n",
    "import re\n",
    "import spacy\n",
    "nlp = spacy.load('en_core_web_sm')"
   ]
  },
  {
   "cell_type": "code",
   "execution_count": 5,
   "id": "2babef30",
   "metadata": {},
   "outputs": [
    {
     "name": "stdout",
     "output_type": "stream",
     "text": [
      "Lista de Reproducción\n",
      "\n",
      "Ingresa la palabra que te gustaría\n",
      "Ejemplo: 'rock', y obtendrás un playlist de canciones o artistas que incluyan la palabra rock\n",
      "rock\n",
      "('Rock Your Body', 'Justin Timberlake')\n",
      "('Rock My Body', 'R3HAB')\n",
      "('Rock the Casbah (Remastered)', 'The Clash')\n",
      "('Rock and A Hard Place', 'Bailey Zimmerman')\n",
      "('Rock And Roll All Nite', 'Kiss')\n",
      "(\"Rocket Man (I Think It's Going To Be A Long, Long Time)\", 'Elton John')\n",
      "('Rock You Like a Hurricane (2011)', 'Scorpions')\n",
      "('Rock This Party (Everybody Dance Now)', 'Bob Sinclar')\n",
      "('Rocky', 'Still Woozy')\n",
      "('Rock', 'Plies')\n",
      "('Rock with You (Single Version)', 'Michael Jackson')\n",
      "('Roch', 'Amikam Lovit')\n",
      "('Rock N Roll Train', 'AC/DC')\n",
      "('rockstar', 'Post Malone')\n",
      "('Just Wanna Rock', 'Lil Uzi Vert')\n",
      "('All Summer Long', 'Kid Rock')\n",
      "('Lovers Rock', 'TV Girl')\n",
      "('Rock With You', 'Michael Jackson')\n",
      "('Rocks', 'Bones')\n",
      "('Rock You Like A Hurricane', 'Scorpions')\n",
      "('Só Rock 2', 'Rock Danger')\n",
      "('ROCKY', 'ATEEZ')\n",
      "(\"Rock 'n' Roll (Part 2)\", 'Gary Glitter')\n",
      "('Rock or Bust', 'AC/DC')\n",
      "('Roce', 'Mark B.')\n"
     ]
    }
   ],
   "source": [
    "import requests\n",
    "print(\"Lista de Reproducción\\n\")\n",
    "# Referencia: https://www.deezer.com/en/channels/explore\n",
    "print(\"Ingresa la palabra que te gustaría\")\n",
    "print(\"Ejemplo: 'rock', y obtendrás un playlist de canciones o artistas que incluyan la palabra rock\")\n",
    "word_to_search = input()\n",
    "url = \"https://deezerdevs-deezer.p.rapidapi.com/search\"\n",
    "querystring = {\"q\":word_to_search}\n",
    "headers = {\n",
    " \"X-RapidAPI-Key\": \"3ed98f551fmshe4e6260228c4eadp13db17jsn8c893e1194da\",\n",
    " \"X-RapidAPI-Host\": \"deezerdevs-deezer.p.rapidapi.com\"\n",
    "}\n",
    "response = requests.request(\"GET\", url, headers=headers, params=querystring).json()\n",
    "for element in response['data']:\n",
    " my_list = [element['title'], element['artist']['name']]\n",
    " my_list = tuple(my_list)\n",
    " print(my_list)"
   ]
  },
  {
   "cell_type": "code",
   "execution_count": null,
   "id": "9e1c9537",
   "metadata": {},
   "outputs": [],
   "source": []
  }
 ],
 "metadata": {
  "kernelspec": {
   "display_name": "Python 3 (ipykernel)",
   "language": "python",
   "name": "python3"
  },
  "language_info": {
   "codemirror_mode": {
    "name": "ipython",
    "version": 3
   },
   "file_extension": ".py",
   "mimetype": "text/x-python",
   "name": "python",
   "nbconvert_exporter": "python",
   "pygments_lexer": "ipython3",
   "version": "3.9.13"
  }
 },
 "nbformat": 4,
 "nbformat_minor": 5
}
