{
 "cells": [
  {
   "cell_type": "code",
   "execution_count": 1,
   "id": "98854426",
   "metadata": {},
   "outputs": [
    {
     "name": "stdout",
     "output_type": "stream",
     "text": [
      "please place your favourite number, which will be used to do some math:2\n"
     ]
    }
   ],
   "source": [
    "x = input('please place your favourite number, which will be used to do some math:')"
   ]
  },
  {
   "cell_type": "code",
   "execution_count": 2,
   "id": "dcbab544",
   "metadata": {},
   "outputs": [
    {
     "name": "stdout",
     "output_type": "stream",
     "text": [
      "please choose an option of math: 1 is Sum, 2 is DIfference, 3 is Multiply, 4 is Division & 5 Power: 2\n"
     ]
    }
   ],
   "source": [
    "y = input('please choose an option of math: 1 is Sum, 2 is DIfference, 3 is Multiply, 4 is Division & 5 Power: ')"
   ]
  },
  {
   "cell_type": "code",
   "execution_count": 3,
   "id": "a643f7a2",
   "metadata": {},
   "outputs": [
    {
     "name": "stdout",
     "output_type": "stream",
     "text": [
      "2.0\n",
      "2\n"
     ]
    }
   ],
   "source": [
    "x = float(x)\n",
    "y = int(y)\n",
    "print(x)\n",
    "print(y)"
   ]
  },
  {
   "cell_type": "code",
   "execution_count": 4,
   "id": "af182a29",
   "metadata": {},
   "outputs": [],
   "source": [
    "x = x\n",
    "y = y\n",
    "def mathemathic(x,y):\n",
    "    if y >= 5 and y <=0:\n",
    "        print('Please follow the instructions')\n",
    "    elif y == 1:\n",
    "        print(x + y)\n",
    "    elif y == 2:\n",
    "        print(x - y)\n",
    "    elif y== 3:\n",
    "        print( x * y)\n",
    "    elif y== 4:\n",
    "        print(x / y)\n",
    "    elif y== 5:\n",
    "        print(x ** y)\n",
    "    else:\n",
    "        print('zzzz')\n"
   ]
  },
  {
   "cell_type": "code",
   "execution_count": 5,
   "id": "708c3ac1",
   "metadata": {},
   "outputs": [
    {
     "name": "stdout",
     "output_type": "stream",
     "text": [
      "0.0\n",
      "None\n"
     ]
    }
   ],
   "source": [
    "print(mathemathic(x,y))"
   ]
  },
  {
   "cell_type": "code",
   "execution_count": 6,
   "id": "e1dd5754",
   "metadata": {},
   "outputs": [
    {
     "name": "stdout",
     "output_type": "stream",
     "text": [
      "<class 'float'>\n"
     ]
    }
   ],
   "source": [
    "print(type(x))"
   ]
  },
  {
   "cell_type": "code",
   "execution_count": 7,
   "id": "e2898cee",
   "metadata": {},
   "outputs": [],
   "source": [
    "my_list = [x,2,3,4,5]"
   ]
  },
  {
   "cell_type": "code",
   "execution_count": 8,
   "id": "7369c877",
   "metadata": {},
   "outputs": [],
   "source": [
    "my_dict = {'a':1,'b':2, 'c':3,'d':4, 'e':5}"
   ]
  },
  {
   "cell_type": "code",
   "execution_count": 9,
   "id": "fd5bbbf0",
   "metadata": {},
   "outputs": [],
   "source": [
    "my_set = {1,2,x,x,4,5}"
   ]
  },
  {
   "cell_type": "code",
   "execution_count": 17,
   "id": "c3f42d05",
   "metadata": {},
   "outputs": [],
   "source": [
    "def id_var(x):\n",
    "    try:\n",
    "        if x in my_list:\n",
    "            print('Your number is in the list')\n",
    "        elif x in my_dict:\n",
    "            print('Your number is in the dict')\n",
    "        elif x in my_set:\n",
    "            print('Your number is in the set')\n",
    "        else:\n",
    "            print('I think I need more guidence in math')\n",
    "    except:\n",
    "        print('sorry I need some oil bath...please come back later')"
   ]
  },
  {
   "cell_type": "code",
   "execution_count": 16,
   "id": "8cb653cf",
   "metadata": {},
   "outputs": [
    {
     "name": "stdout",
     "output_type": "stream",
     "text": [
      "Your number is in the list\n",
      "None\n"
     ]
    }
   ],
   "source": [
    "print(id_var(x))"
   ]
  },
  {
   "cell_type": "code",
   "execution_count": null,
   "id": "e7ba9003",
   "metadata": {},
   "outputs": [],
   "source": []
  }
 ],
 "metadata": {
  "kernelspec": {
   "display_name": "Python 3 (ipykernel)",
   "language": "python",
   "name": "python3"
  },
  "language_info": {
   "codemirror_mode": {
    "name": "ipython",
    "version": 3
   },
   "file_extension": ".py",
   "mimetype": "text/x-python",
   "name": "python",
   "nbconvert_exporter": "python",
   "pygments_lexer": "ipython3",
   "version": "3.9.13"
  }
 },
 "nbformat": 4,
 "nbformat_minor": 5
}
