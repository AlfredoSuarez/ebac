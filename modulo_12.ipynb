{
 "cells": [
  {
   "cell_type": "code",
   "execution_count": 1,
   "id": "4fb637d6",
   "metadata": {},
   "outputs": [],
   "source": [
    "import time"
   ]
  },
  {
   "cell_type": "code",
   "execution_count": 3,
   "id": "a8b5a23c",
   "metadata": {},
   "outputs": [
    {
     "name": "stdout",
     "output_type": "stream",
     "text": [
      "stop1\n"
     ]
    }
   ],
   "source": [
    "def promo_countdown(time_sec):\n",
    "    while time_sec:\n",
    "        mins, secs = divmod(time_sec,60)\n",
    "        timeformat = '{:02d}:{:02d}'.format(mins, secs)\n",
    "        print(timeformat, end = '\\r')\n",
    "        time.sleep(1)\n",
    "        time_sec -= 1\n",
    "        \n",
    "    print('Sale OFF')\n",
    "    \n",
    "promo_countdown(10)"
   ]
  },
  {
   "cell_type": "code",
   "execution_count": null,
   "id": "a9094673",
   "metadata": {},
   "outputs": [],
   "source": [
    "#cart_price es una función de cálculo de precio regular de la cuenta\n",
    "x = float()\n",
    "def discount(x):\n",
    "    while x <= 100:\n",
    "        y = cart_price() * (1-(x/100))\n",
    "        return y\n",
    "    print('Code not valid')\n",
    "    \n",
    "    "
   ]
  }
 ],
 "metadata": {
  "kernelspec": {
   "display_name": "Python 3 (ipykernel)",
   "language": "python",
   "name": "python3"
  },
  "language_info": {
   "codemirror_mode": {
    "name": "ipython",
    "version": 3
   },
   "file_extension": ".py",
   "mimetype": "text/x-python",
   "name": "python",
   "nbconvert_exporter": "python",
   "pygments_lexer": "ipython3",
   "version": "3.9.13"
  }
 },
 "nbformat": 4,
 "nbformat_minor": 5
}
