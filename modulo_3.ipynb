{
 "cells": [
  {
   "cell_type": "code",
   "execution_count": 1,
   "id": "98854426",
   "metadata": {},
   "outputs": [
    {
     "name": "stdout",
     "output_type": "stream",
     "text": [
      "please place your favourite number, which will be used to do some math:45\n"
     ]
    }
   ],
   "source": [
    "x = input('please place your favourite number, which will be used to do some math:')"
   ]
  },
  {
   "cell_type": "code",
   "execution_count": 2,
   "id": "dcbab544",
   "metadata": {},
   "outputs": [
    {
     "name": "stdout",
     "output_type": "stream",
     "text": [
      "please choose an option of math: 1 is Sum, 2 is DIfference, 3 is Multiply, 4 is Division & 5 Power: 2\n"
     ]
    }
   ],
   "source": [
    "y = input('please choose an option of math: 1 is Sum, 2 is DIfference, 3 is Multiply, 4 is Division & 5 Power: ')"
   ]
  },
  {
   "cell_type": "code",
   "execution_count": 3,
   "id": "a643f7a2",
   "metadata": {},
   "outputs": [
    {
     "name": "stdout",
     "output_type": "stream",
     "text": [
      "45.0\n",
      "2\n"
     ]
    }
   ],
   "source": [
    "x = float(x)\n",
    "y = int(y)\n",
    "print(x)\n",
    "print(y)"
   ]
  },
  {
   "cell_type": "code",
   "execution_count": 16,
   "id": "af182a29",
   "metadata": {},
   "outputs": [],
   "source": [
    "x = x\n",
    "y = y\n",
    "def mathemathic(x,y):\n",
    "    if y >= 5 and y <=0:\n",
    "        print('Please follow the instructions')\n",
    "    elif y == 1:\n",
    "        print(x + y)\n",
    "    elif y == 2:\n",
    "        print(x - y)\n",
    "    elif y== 3:\n",
    "        print( x * y)\n",
    "    elif y== 4:\n",
    "        print(x / y)\n",
    "    elif y== 5:\n",
    "        print(x ** y)\n",
    "    else:\n",
    "        print('zzzz')\n"
   ]
  },
  {
   "cell_type": "code",
   "execution_count": 17,
   "id": "708c3ac1",
   "metadata": {},
   "outputs": [
    {
     "name": "stdout",
     "output_type": "stream",
     "text": [
      "43.0\n",
      "None\n"
     ]
    }
   ],
   "source": [
    "print(mathemathic(x,y))"
   ]
  },
  {
   "cell_type": "code",
   "execution_count": null,
   "id": "e1dd5754",
   "metadata": {},
   "outputs": [],
   "source": []
  }
 ],
 "metadata": {
  "kernelspec": {
   "display_name": "Python 3 (ipykernel)",
   "language": "python",
   "name": "python3"
  },
  "language_info": {
   "codemirror_mode": {
    "name": "ipython",
    "version": 3
   },
   "file_extension": ".py",
   "mimetype": "text/x-python",
   "name": "python",
   "nbconvert_exporter": "python",
   "pygments_lexer": "ipython3",
   "version": "3.9.13"
  }
 },
 "nbformat": 4,
 "nbformat_minor": 5
}
