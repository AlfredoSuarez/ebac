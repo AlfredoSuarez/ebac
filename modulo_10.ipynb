{
 "cells": [
  {
   "cell_type": "code",
   "execution_count": 5,
   "id": "ab0d6fda",
   "metadata": {},
   "outputs": [
    {
     "name": "stdout",
     "output_type": "stream",
     "text": [
      "Requirement already satisfied: requests in /opt/homebrew/lib/python3.10/site-packages (2.30.0)\n",
      "Requirement already satisfied: charset-normalizer<4,>=2 in /opt/homebrew/lib/python3.10/site-packages (from requests) (3.1.0)\n",
      "Requirement already satisfied: idna<4,>=2.5 in /opt/homebrew/lib/python3.10/site-packages (from requests) (3.4)\n",
      "Requirement already satisfied: urllib3<3,>=1.21.1 in /opt/homebrew/lib/python3.10/site-packages (from requests) (1.26.15)\n",
      "Requirement already satisfied: certifi>=2017.4.17 in /opt/homebrew/lib/python3.10/site-packages (from requests) (2023.5.7)\n"
     ]
    }
   ],
   "source": [
    "#!pip install requests"
   ]
  },
  {
   "cell_type": "code",
   "execution_count": 6,
   "id": "bbcea93a",
   "metadata": {},
   "outputs": [],
   "source": [
    "import os\n",
    "import urllib\n",
    "import numpy as np\n",
    "import scipy as sp\n",
    "import pandas as pd\n",
    "import re\n",
    "import spacy\n",
    "nlp = spacy.load('en_core_web_sm')\n"
   ]
  },
  {
   "cell_type": "code",
   "execution_count": 12,
   "id": "32dca976",
   "metadata": {
    "scrolled": false
   },
   "outputs": [
    {
     "name": "stdout",
     "output_type": "stream",
     "text": [
      "Lista de Reproducción\n",
      "\n",
      "Ingresa la palabra que te gustaría\n",
      "Ejemplo: 'rock', y obtendrás un playlist de canciones o artistas que incluyan la palabra rock\n",
      "rock\n",
      "{'title': 'Roce', 'name': 'Mark B.'}\n"
     ]
    }
   ],
   "source": [
    "import requests\n",
    "print(\"Lista de Reproducción\\n\")\n",
    "# Referencia: https://www.deezer.com/en/channels/explore\n",
    "print(\"Ingresa la palabra que te gustaría\")\n",
    "print(\"Ejemplo: 'rock', y obtendrás un playlist de canciones o artistas que incluyan la palabra rock\")\n",
    "word_to_search = input()\n",
    "url = \"https://deezerdevs-deezer.p.rapidapi.com/search\"\n",
    "querystring = {\"q\":word_to_search}\n",
    "headers = {\n",
    " \"X-RapidAPI-Key\": \"3ed98f551fmshe4e6260228c4eadp13db17jsn8c893e1194da\",\n",
    " \"X-RapidAPI-Host\": \"deezerdevs-deezer.p.rapidapi.com\"\n",
    "}\n",
    "response = requests.request(\"GET\", url, headers=headers, params=querystring).json()\n",
    "for element in response['data']:\n",
    " my_list = {'title':element['title'], 'name':element['artist']['name']}\n",
    " \n",
    "\n",
    "print(my_list)"
   ]
  },
  {
   "cell_type": "code",
   "execution_count": null,
   "id": "548e2e8b",
   "metadata": {},
   "outputs": [],
   "source": []
  },
  {
   "cell_type": "code",
   "execution_count": null,
   "id": "c4763c56",
   "metadata": {},
   "outputs": [],
   "source": []
  },
  {
   "cell_type": "code",
   "execution_count": null,
   "id": "0c46c5c4",
   "metadata": {},
   "outputs": [],
   "source": []
  }
 ],
 "metadata": {
  "kernelspec": {
   "display_name": "Python 3 (ipykernel)",
   "language": "python",
   "name": "python3"
  },
  "language_info": {
   "codemirror_mode": {
    "name": "ipython",
    "version": 3
   },
   "file_extension": ".py",
   "mimetype": "text/x-python",
   "name": "python",
   "nbconvert_exporter": "python",
   "pygments_lexer": "ipython3",
   "version": "3.9.13"
  }
 },
 "nbformat": 4,
 "nbformat_minor": 5
}
