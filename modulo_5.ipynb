{
 "cells": [
  {
   "cell_type": "code",
   "execution_count": 1,
   "id": "b4313922",
   "metadata": {},
   "outputs": [],
   "source": [
    "import os\n",
    "import urllib\n",
    "import numpy as np\n",
    "import scipy as sp\n",
    "import pandas as pd\n",
    "import re\n",
    "import spacy\n",
    "nlp = spacy.load('en_core_web_sm')"
   ]
  },
  {
   "cell_type": "code",
   "execution_count": 3,
   "id": "60f267eb",
   "metadata": {},
   "outputs": [
    {
     "name": "stdout",
     "output_type": "stream",
     "text": [
      "Analizador de sentimientos\n",
      "\n",
      "my_string: \n",
      "Este es un product muy bueno, excelente, maravilloso\n",
      "\n",
      "score: 3 \n",
      "resultado: Positivo\n"
     ]
    }
   ],
   "source": [
    "my_string = \"\"\"\n",
    "Este es un producto muy bueno, excelente, maravilloso\n",
    "\"\"\"\n",
    "positive_words = [\"bueno\", \"excelente\", \"maravilloso\"]\n",
    "negative_words = [\"defectuoso\", \"malo\", \"horrible\"]\n",
    "score = 0\n",
    "for positive_word in positive_words:\n",
    " score = score + my_string.count(positive_word)\n",
    "\n",
    "for negative_word in negative_words:\n",
    " score = score - my_string.count(negative_word)\n",
    "if score == 0:\n",
    " result = \"Neutro\"\n",
    "if score > 0:\n",
    " result = \"Positivo\"\n",
    "if score < 0:\n",
    " result = \"Negativo\"\n",
    "\n",
    "print(\"Analizador de sentimientos\\n\")\n",
    "print(\"my_string: {}\\nscore: {} \\nresultado: {}\".format(my_string, score, result))"
   ]
  },
  {
   "cell_type": "code",
   "execution_count": 4,
   "id": "78755377",
   "metadata": {},
   "outputs": [
    {
     "name": "stdout",
     "output_type": "stream",
     "text": [
      "Analizador de sentimientos\n",
      "\n",
      "my_string: \n",
      "Este es un producto muy malo,defectuoso y horrible\n",
      "\n",
      "score: -3 \n",
      "resultado: Negativo\n"
     ]
    }
   ],
   "source": [
    "my_string = \"\"\"\n",
    "Este es un producto muy malo,defectuoso y horrible\n",
    "\"\"\"\n",
    "positive_words = [\"bueno\", \"excelente\", \"maravilloso\"]\n",
    "negative_words = [\"defectuoso\", \"malo\", \"horrible\"]\n",
    "score = 0\n",
    "for positive_word in positive_words:\n",
    " score = score + my_string.count(positive_word)\n",
    "\n",
    "for negative_word in negative_words:\n",
    " score = score - my_string.count(negative_word)\n",
    "if score == 0:\n",
    " result = \"Neutro\"\n",
    "if score > 0:\n",
    " result = \"Positivo\"\n",
    "if score < 0:\n",
    " result = \"Negativo\"\n",
    "\n",
    "print(\"Analizador de sentimientos\\n\")\n",
    "print(\"my_string: {}\\nscore: {} \\nresultado: {}\".format(my_string, score, result))"
   ]
  },
  {
   "cell_type": "code",
   "execution_count": 5,
   "id": "8a87a6cd",
   "metadata": {},
   "outputs": [
    {
     "name": "stdout",
     "output_type": "stream",
     "text": [
      "Analizador de sentimientos\n",
      "\n",
      "my_string: \n",
      "Este es un producto bueno, aunque horrible\n",
      "\n",
      "score: 0 \n",
      "resultado: Neutro\n"
     ]
    }
   ],
   "source": [
    "my_string = \"\"\"\n",
    "Este es un producto bueno, aunque horrible\n",
    "\"\"\"\n",
    "positive_words = [\"bueno\", \"excelente\", \"maravilloso\"]\n",
    "negative_words = [\"defectuoso\", \"malo\", \"horrible\"]\n",
    "score = 0\n",
    "for positive_word in positive_words:\n",
    " score = score + my_string.count(positive_word)\n",
    "\n",
    "for negative_word in negative_words:\n",
    " score = score - my_string.count(negative_word)\n",
    "if score == 0:\n",
    " result = \"Neutro\"\n",
    "if score > 0:\n",
    " result = \"Positivo\"\n",
    "if score < 0:\n",
    " result = \"Negativo\"\n",
    "\n",
    "print(\"Analizador de sentimientos\\n\")\n",
    "print(\"my_string: {}\\nscore: {} \\nresultado: {}\".format(my_string, score, result))"
   ]
  },
  {
   "cell_type": "code",
   "execution_count": null,
   "id": "5d38f7de",
   "metadata": {},
   "outputs": [],
   "source": []
  }
 ],
 "metadata": {
  "kernelspec": {
   "display_name": "Python 3 (ipykernel)",
   "language": "python",
   "name": "python3"
  },
  "language_info": {
   "codemirror_mode": {
    "name": "ipython",
    "version": 3
   },
   "file_extension": ".py",
   "mimetype": "text/x-python",
   "name": "python",
   "nbconvert_exporter": "python",
   "pygments_lexer": "ipython3",
   "version": "3.9.13"
  }
 },
 "nbformat": 4,
 "nbformat_minor": 5
}
