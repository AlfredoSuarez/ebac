{
 "cells": [
  {
   "cell_type": "code",
   "execution_count": 1,
   "id": "eae7fc5c",
   "metadata": {},
   "outputs": [],
   "source": [
    "class Item:\n",
    "    def __init__(self, quantity,description):\n",
    "        self.quantity = quantity\n",
    "        self.description = description\n",
    "        \n",
    "    def print_attributes(self):\n",
    "        print('cantidad',self.quantity)\n",
    "        print('description', self.description)"
   ]
  },
  {
   "cell_type": "code",
   "execution_count": 9,
   "id": "57b90b4f",
   "metadata": {},
   "outputs": [],
   "source": [
    "class Item_for_sale(Item):\n",
    "    def __init__(self,quantity,description,price):\n",
    "        super().__init__(quantity, description)\n",
    "        self.price = price\n",
    "        \n",
    "    def set_sale_price(self,price):\n",
    "        self.price = price\n",
    "        self.print_sale_price()\n",
    "        return self\n",
    "        \n",
    "    def info_disp(self):\n",
    "        self.print_attributes()\n",
    "        self.print_sale_price()\n",
    "        \n",
    "        \n",
    "    def print_sale_price(self):\n",
    "        print('price',self.price)\n",
    "        "
   ]
  },
  {
   "cell_type": "code",
   "execution_count": 10,
   "id": "c7ae88a5",
   "metadata": {},
   "outputs": [
    {
     "name": "stdout",
     "output_type": "stream",
     "text": [
      "price 50\n"
     ]
    }
   ],
   "source": [
    "item1 = Item_for_sale(1,'Towel',30).set_sale_price(50)"
   ]
  },
  {
   "cell_type": "code",
   "execution_count": 11,
   "id": "d8ab7633",
   "metadata": {},
   "outputs": [
    {
     "name": "stdout",
     "output_type": "stream",
     "text": [
      "cantidad 1\n",
      "description Towel\n",
      "price 50\n"
     ]
    }
   ],
   "source": [
    "item1.info_disp()"
   ]
  },
  {
   "cell_type": "code",
   "execution_count": 34,
   "id": "a527080d",
   "metadata": {},
   "outputs": [],
   "source": [
    "class Cost_item (Item):\n",
    "    def __init__(self,quantity,description,cost_price):\n",
    "        super().__init__(quantity, description)\n",
    "        self.cost_price = cost_price\n",
    "        \n",
    "    def set_cost_price(self,cost_price):\n",
    "        self.cost_price = cost_price\n",
    "        self.print_cost_price()\n",
    "        return self\n",
    "        \n",
    "    def info_disp(self):\n",
    "        self.print_attributes()\n",
    "        self.print_cost_price()\n",
    "        \n",
    "        \n",
    "    def print_cost_price(self):\n",
    "        print('price',self.cost_price)"
   ]
  },
  {
   "cell_type": "code",
   "execution_count": 35,
   "id": "57c4e545",
   "metadata": {},
   "outputs": [
    {
     "name": "stdout",
     "output_type": "stream",
     "text": [
      "price 25\n"
     ]
    }
   ],
   "source": [
    "item1 = Cost_item(1,'Towel',30).set_cost_price(25)"
   ]
  },
  {
   "cell_type": "code",
   "execution_count": 36,
   "id": "ba232c4f",
   "metadata": {},
   "outputs": [
    {
     "name": "stdout",
     "output_type": "stream",
     "text": [
      "cantidad 1\n",
      "description Towel\n",
      "price 25\n"
     ]
    }
   ],
   "source": [
    "item1.info_disp()"
   ]
  },
  {
   "cell_type": "code",
   "execution_count": null,
   "id": "f63da709",
   "metadata": {},
   "outputs": [],
   "source": []
  }
 ],
 "metadata": {
  "kernelspec": {
   "display_name": "Python 3 (ipykernel)",
   "language": "python",
   "name": "python3"
  },
  "language_info": {
   "codemirror_mode": {
    "name": "ipython",
    "version": 3
   },
   "file_extension": ".py",
   "mimetype": "text/x-python",
   "name": "python",
   "nbconvert_exporter": "python",
   "pygments_lexer": "ipython3",
   "version": "3.9.13"
  }
 },
 "nbformat": 4,
 "nbformat_minor": 5
}
